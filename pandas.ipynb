{
 "cells": [
  {
   "cell_type": "markdown",
   "metadata": {},
   "source": [
    "# Pandas"
   ]
  },
  {
   "cell_type": "markdown",
   "metadata": {},
   "source": [
    "## Series"
   ]
  },
  {
   "cell_type": "code",
   "execution_count": 1,
   "metadata": {},
   "outputs": [],
   "source": [
    "import numpy as np\n",
    "import pandas as pd"
   ]
  },
  {
   "cell_type": "code",
   "execution_count": 7,
   "metadata": {},
   "outputs": [],
   "source": [
    "lbl = ['a','b','c']\n",
    "lst = [10,20,30]\n",
    "\n",
    "arr1 = np.array([10, 20, 30])\n",
    "\n",
    "d = {'a':10,'b':20,'c':30}"
   ]
  },
  {
   "cell_type": "code",
   "execution_count": 5,
   "metadata": {},
   "outputs": [
    {
     "data": {
      "text/plain": "0    10\n1    20\n2    30\ndtype: int64"
     },
     "execution_count": 5,
     "metadata": {},
     "output_type": "execute_result"
    }
   ],
   "source": [
    "## With list\n",
    "\n",
    "pd.Series(lst)"
   ]
  },
  {
   "cell_type": "code",
   "execution_count": 9,
   "metadata": {},
   "outputs": [
    {
     "data": {
      "text/plain": "a    10\nb    20\nc    30\ndtype: int64"
     },
     "execution_count": 9,
     "metadata": {},
     "output_type": "execute_result"
    }
   ],
   "source": [
    "## With list and custom label\n",
    "\n",
    "pd.Series(data=lst,index=lbl)"
   ]
  },
  {
   "cell_type": "code",
   "execution_count": 10,
   "metadata": {},
   "outputs": [
    {
     "data": {
      "text/plain": "a    10\nb    20\nc    30\ndtype: int64"
     },
     "execution_count": 10,
     "metadata": {},
     "output_type": "execute_result"
    }
   ],
   "source": [
    "## Dictionary\n",
    "\n",
    "pd.Series(d)"
   ]
  },
  {
   "cell_type": "code",
   "execution_count": 13,
   "metadata": {},
   "outputs": [],
   "source": [
    "d1 = {'US': 50, 'China': 70, 'IND': 100}\n",
    "d2 = {'US': 30, 'NZ': 45, 'IND': 55}\n",
    "\n",
    "a = pd.Series(d1)\n",
    "b = pd.Series(d2)"
   ]
  },
  {
   "cell_type": "code",
   "execution_count": 14,
   "metadata": {},
   "outputs": [
    {
     "data": {
      "text/plain": "China      NaN\nIND      155.0\nNZ         NaN\nUS        80.0\ndtype: float64"
     },
     "execution_count": 14,
     "metadata": {},
     "output_type": "execute_result"
    }
   ],
   "source": [
    "a+b"
   ]
  },
  {
   "cell_type": "markdown",
   "metadata": {},
   "source": [
    "## DataFrames"
   ]
  },
  {
   "cell_type": "code",
   "execution_count": 26,
   "metadata": {},
   "outputs": [],
   "source": [
    "df = pd.DataFrame(data = np.random.randn(5,3), index = 'a b c d e'.split(' '), columns = ['US', 'AUS', 'UK'])"
   ]
  },
  {
   "cell_type": "code",
   "execution_count": 27,
   "metadata": {},
   "outputs": [
    {
     "data": {
      "text/html": "<div>\n<style scoped>\n    .dataframe tbody tr th:only-of-type {\n        vertical-align: middle;\n    }\n\n    .dataframe tbody tr th {\n        vertical-align: top;\n    }\n\n    .dataframe thead th {\n        text-align: right;\n    }\n</style>\n<table border=\"1\" class=\"dataframe\">\n  <thead>\n    <tr style=\"text-align: right;\">\n      <th></th>\n      <th>US</th>\n      <th>AUS</th>\n      <th>UK</th>\n    </tr>\n  </thead>\n  <tbody>\n    <tr>\n      <th>a</th>\n      <td>-0.640911</td>\n      <td>0.285930</td>\n      <td>-0.549811</td>\n    </tr>\n    <tr>\n      <th>b</th>\n      <td>-0.837960</td>\n      <td>-2.193583</td>\n      <td>-0.609038</td>\n    </tr>\n    <tr>\n      <th>c</th>\n      <td>-0.130206</td>\n      <td>0.573355</td>\n      <td>0.733247</td>\n    </tr>\n    <tr>\n      <th>d</th>\n      <td>2.060353</td>\n      <td>0.425544</td>\n      <td>-0.757493</td>\n    </tr>\n    <tr>\n      <th>e</th>\n      <td>-0.370550</td>\n      <td>1.674514</td>\n      <td>-1.619657</td>\n    </tr>\n  </tbody>\n</table>\n</div>",
      "text/plain": "         US       AUS        UK\na -0.640911  0.285930 -0.549811\nb -0.837960 -2.193583 -0.609038\nc -0.130206  0.573355  0.733247\nd  2.060353  0.425544 -0.757493\ne -0.370550  1.674514 -1.619657"
     },
     "execution_count": 27,
     "metadata": {},
     "output_type": "execute_result"
    }
   ],
   "source": [
    "df"
   ]
  },
  {
   "cell_type": "code",
   "execution_count": 28,
   "metadata": {},
   "outputs": [
    {
     "data": {
      "text/plain": "a   -0.640911\nb   -0.837960\nc   -0.130206\nd    2.060353\ne   -0.370550\nName: US, dtype: float64"
     },
     "execution_count": 28,
     "metadata": {},
     "output_type": "execute_result"
    }
   ],
   "source": [
    "df['US']"
   ]
  },
  {
   "cell_type": "code",
   "execution_count": 29,
   "metadata": {},
   "outputs": [
    {
     "data": {
      "text/plain": "a   -0.640911\nb   -0.837960\nc   -0.130206\nd    2.060353\ne   -0.370550\nName: US, dtype: float64"
     },
     "execution_count": 29,
     "metadata": {},
     "output_type": "execute_result"
    }
   ],
   "source": [
    "df.US"
   ]
  },
  {
   "cell_type": "code",
   "execution_count": 30,
   "metadata": {},
   "outputs": [
    {
     "data": {
      "text/plain": "Index(['US', 'AUS', 'UK'], dtype='object')"
     },
     "execution_count": 30,
     "metadata": {},
     "output_type": "execute_result"
    }
   ],
   "source": [
    "df.columns"
   ]
  },
  {
   "cell_type": "code",
   "execution_count": 31,
   "metadata": {},
   "outputs": [
    {
     "data": {
      "text/html": "<div>\n<style scoped>\n    .dataframe tbody tr th:only-of-type {\n        vertical-align: middle;\n    }\n\n    .dataframe tbody tr th {\n        vertical-align: top;\n    }\n\n    .dataframe thead th {\n        text-align: right;\n    }\n</style>\n<table border=\"1\" class=\"dataframe\">\n  <thead>\n    <tr style=\"text-align: right;\">\n      <th></th>\n      <th>US</th>\n      <th>AUS</th>\n    </tr>\n  </thead>\n  <tbody>\n    <tr>\n      <th>a</th>\n      <td>-0.640911</td>\n      <td>0.285930</td>\n    </tr>\n    <tr>\n      <th>b</th>\n      <td>-0.837960</td>\n      <td>-2.193583</td>\n    </tr>\n    <tr>\n      <th>c</th>\n      <td>-0.130206</td>\n      <td>0.573355</td>\n    </tr>\n    <tr>\n      <th>d</th>\n      <td>2.060353</td>\n      <td>0.425544</td>\n    </tr>\n    <tr>\n      <th>e</th>\n      <td>-0.370550</td>\n      <td>1.674514</td>\n    </tr>\n  </tbody>\n</table>\n</div>",
      "text/plain": "         US       AUS\na -0.640911  0.285930\nb -0.837960 -2.193583\nc -0.130206  0.573355\nd  2.060353  0.425544\ne -0.370550  1.674514"
     },
     "execution_count": 31,
     "metadata": {},
     "output_type": "execute_result"
    }
   ],
   "source": [
    "df[['US','AUS']]"
   ]
  },
  {
   "cell_type": "code",
   "execution_count": 32,
   "metadata": {},
   "outputs": [],
   "source": [
    "df['New'] = df['US'] + df['AUS']"
   ]
  },
  {
   "cell_type": "code",
   "execution_count": 33,
   "metadata": {},
   "outputs": [
    {
     "data": {
      "text/html": "<div>\n<style scoped>\n    .dataframe tbody tr th:only-of-type {\n        vertical-align: middle;\n    }\n\n    .dataframe tbody tr th {\n        vertical-align: top;\n    }\n\n    .dataframe thead th {\n        text-align: right;\n    }\n</style>\n<table border=\"1\" class=\"dataframe\">\n  <thead>\n    <tr style=\"text-align: right;\">\n      <th></th>\n      <th>US</th>\n      <th>AUS</th>\n      <th>UK</th>\n      <th>New</th>\n    </tr>\n  </thead>\n  <tbody>\n    <tr>\n      <th>a</th>\n      <td>-0.640911</td>\n      <td>0.285930</td>\n      <td>-0.549811</td>\n      <td>-0.354981</td>\n    </tr>\n    <tr>\n      <th>b</th>\n      <td>-0.837960</td>\n      <td>-2.193583</td>\n      <td>-0.609038</td>\n      <td>-3.031544</td>\n    </tr>\n    <tr>\n      <th>c</th>\n      <td>-0.130206</td>\n      <td>0.573355</td>\n      <td>0.733247</td>\n      <td>0.443148</td>\n    </tr>\n    <tr>\n      <th>d</th>\n      <td>2.060353</td>\n      <td>0.425544</td>\n      <td>-0.757493</td>\n      <td>2.485897</td>\n    </tr>\n    <tr>\n      <th>e</th>\n      <td>-0.370550</td>\n      <td>1.674514</td>\n      <td>-1.619657</td>\n      <td>1.303964</td>\n    </tr>\n  </tbody>\n</table>\n</div>",
      "text/plain": "         US       AUS        UK       New\na -0.640911  0.285930 -0.549811 -0.354981\nb -0.837960 -2.193583 -0.609038 -3.031544\nc -0.130206  0.573355  0.733247  0.443148\nd  2.060353  0.425544 -0.757493  2.485897\ne -0.370550  1.674514 -1.619657  1.303964"
     },
     "execution_count": 33,
     "metadata": {},
     "output_type": "execute_result"
    }
   ],
   "source": [
    "df"
   ]
  },
  {
   "cell_type": "code",
   "execution_count": 35,
   "metadata": {},
   "outputs": [
    {
     "data": {
      "text/html": "<div>\n<style scoped>\n    .dataframe tbody tr th:only-of-type {\n        vertical-align: middle;\n    }\n\n    .dataframe tbody tr th {\n        vertical-align: top;\n    }\n\n    .dataframe thead th {\n        text-align: right;\n    }\n</style>\n<table border=\"1\" class=\"dataframe\">\n  <thead>\n    <tr style=\"text-align: right;\">\n      <th></th>\n      <th>US</th>\n      <th>AUS</th>\n      <th>UK</th>\n      <th>New</th>\n    </tr>\n  </thead>\n  <tbody>\n    <tr>\n      <th>a</th>\n      <td>-0.640911</td>\n      <td>0.285930</td>\n      <td>-0.549811</td>\n      <td>-0.354981</td>\n    </tr>\n    <tr>\n      <th>b</th>\n      <td>-0.837960</td>\n      <td>-2.193583</td>\n      <td>-0.609038</td>\n      <td>-3.031544</td>\n    </tr>\n    <tr>\n      <th>c</th>\n      <td>-0.130206</td>\n      <td>0.573355</td>\n      <td>0.733247</td>\n      <td>0.443148</td>\n    </tr>\n    <tr>\n      <th>d</th>\n      <td>2.060353</td>\n      <td>0.425544</td>\n      <td>-0.757493</td>\n      <td>2.485897</td>\n    </tr>\n    <tr>\n      <th>e</th>\n      <td>-0.370550</td>\n      <td>1.674514</td>\n      <td>-1.619657</td>\n      <td>1.303964</td>\n    </tr>\n  </tbody>\n</table>\n</div>",
      "text/plain": "         US       AUS        UK       New\na -0.640911  0.285930 -0.549811 -0.354981\nb -0.837960 -2.193583 -0.609038 -3.031544\nc -0.130206  0.573355  0.733247  0.443148\nd  2.060353  0.425544 -0.757493  2.485897\ne -0.370550  1.674514 -1.619657  1.303964"
     },
     "execution_count": 35,
     "metadata": {},
     "output_type": "execute_result"
    }
   ],
   "source": [
    "df.drop('New',axis=1)\n",
    "df"
   ]
  },
  {
   "cell_type": "code",
   "execution_count": 36,
   "metadata": {},
   "outputs": [],
   "source": [
    "df['sum'] = df['US']+df['AUS']+df['UK']"
   ]
  },
  {
   "cell_type": "code",
   "execution_count": 37,
   "metadata": {},
   "outputs": [],
   "source": [
    "df = df.drop('New',axis = 1)"
   ]
  },
  {
   "cell_type": "code",
   "execution_count": 38,
   "metadata": {},
   "outputs": [
    {
     "data": {
      "text/html": "<div>\n<style scoped>\n    .dataframe tbody tr th:only-of-type {\n        vertical-align: middle;\n    }\n\n    .dataframe tbody tr th {\n        vertical-align: top;\n    }\n\n    .dataframe thead th {\n        text-align: right;\n    }\n</style>\n<table border=\"1\" class=\"dataframe\">\n  <thead>\n    <tr style=\"text-align: right;\">\n      <th></th>\n      <th>US</th>\n      <th>AUS</th>\n      <th>UK</th>\n      <th>sum</th>\n    </tr>\n  </thead>\n  <tbody>\n    <tr>\n      <th>a</th>\n      <td>-0.640911</td>\n      <td>0.285930</td>\n      <td>-0.549811</td>\n      <td>-0.904792</td>\n    </tr>\n    <tr>\n      <th>b</th>\n      <td>-0.837960</td>\n      <td>-2.193583</td>\n      <td>-0.609038</td>\n      <td>-3.640582</td>\n    </tr>\n    <tr>\n      <th>c</th>\n      <td>-0.130206</td>\n      <td>0.573355</td>\n      <td>0.733247</td>\n      <td>1.176395</td>\n    </tr>\n    <tr>\n      <th>d</th>\n      <td>2.060353</td>\n      <td>0.425544</td>\n      <td>-0.757493</td>\n      <td>1.728404</td>\n    </tr>\n    <tr>\n      <th>e</th>\n      <td>-0.370550</td>\n      <td>1.674514</td>\n      <td>-1.619657</td>\n      <td>-0.315694</td>\n    </tr>\n  </tbody>\n</table>\n</div>",
      "text/plain": "         US       AUS        UK       sum\na -0.640911  0.285930 -0.549811 -0.904792\nb -0.837960 -2.193583 -0.609038 -3.640582\nc -0.130206  0.573355  0.733247  1.176395\nd  2.060353  0.425544 -0.757493  1.728404\ne -0.370550  1.674514 -1.619657 -0.315694"
     },
     "execution_count": 38,
     "metadata": {},
     "output_type": "execute_result"
    }
   ],
   "source": [
    "df"
   ]
  },
  {
   "cell_type": "code",
   "execution_count": 39,
   "metadata": {},
   "outputs": [
    {
     "data": {
      "text/html": "<div>\n<style scoped>\n    .dataframe tbody tr th:only-of-type {\n        vertical-align: middle;\n    }\n\n    .dataframe tbody tr th {\n        vertical-align: top;\n    }\n\n    .dataframe thead th {\n        text-align: right;\n    }\n</style>\n<table border=\"1\" class=\"dataframe\">\n  <thead>\n    <tr style=\"text-align: right;\">\n      <th></th>\n      <th>US</th>\n      <th>AUS</th>\n      <th>UK</th>\n    </tr>\n  </thead>\n  <tbody>\n    <tr>\n      <th>a</th>\n      <td>-0.640911</td>\n      <td>0.285930</td>\n      <td>-0.549811</td>\n    </tr>\n    <tr>\n      <th>b</th>\n      <td>-0.837960</td>\n      <td>-2.193583</td>\n      <td>-0.609038</td>\n    </tr>\n    <tr>\n      <th>c</th>\n      <td>-0.130206</td>\n      <td>0.573355</td>\n      <td>0.733247</td>\n    </tr>\n    <tr>\n      <th>d</th>\n      <td>2.060353</td>\n      <td>0.425544</td>\n      <td>-0.757493</td>\n    </tr>\n    <tr>\n      <th>e</th>\n      <td>-0.370550</td>\n      <td>1.674514</td>\n      <td>-1.619657</td>\n    </tr>\n  </tbody>\n</table>\n</div>",
      "text/plain": "         US       AUS        UK\na -0.640911  0.285930 -0.549811\nb -0.837960 -2.193583 -0.609038\nc -0.130206  0.573355  0.733247\nd  2.060353  0.425544 -0.757493\ne -0.370550  1.674514 -1.619657"
     },
     "execution_count": 39,
     "metadata": {},
     "output_type": "execute_result"
    }
   ],
   "source": [
    "df.drop('sum',axis=1,inplace=True)\n",
    "df"
   ]
  },
  {
   "cell_type": "markdown",
   "metadata": {},
   "source": [
    "### Selection by label index using .loc"
   ]
  },
  {
   "cell_type": "code",
   "execution_count": 41,
   "metadata": {},
   "outputs": [
    {
     "data": {
      "text/plain": "US    -0.640911\nAUS    0.285930\nUK    -0.549811\nName: a, dtype: float64"
     },
     "execution_count": 41,
     "metadata": {},
     "output_type": "execute_result"
    }
   ],
   "source": [
    "df.loc['a']"
   ]
  },
  {
   "cell_type": "code",
   "execution_count": 43,
   "metadata": {},
   "outputs": [
    {
     "data": {
      "text/plain": "US    -0.640911\nAUS    0.285930\nUK    -0.549811\nName: a, dtype: float64"
     },
     "execution_count": 43,
     "metadata": {},
     "output_type": "execute_result"
    }
   ],
   "source": [
    "df.iloc[0]"
   ]
  },
  {
   "cell_type": "code",
   "execution_count": 44,
   "metadata": {},
   "outputs": [
    {
     "data": {
      "text/plain": "-0.6090383622981055"
     },
     "execution_count": 44,
     "metadata": {},
     "output_type": "execute_result"
    }
   ],
   "source": [
    "df.loc['b','UK']"
   ]
  },
  {
   "cell_type": "code",
   "execution_count": 46,
   "metadata": {},
   "outputs": [
    {
     "data": {
      "text/html": "<div>\n<style scoped>\n    .dataframe tbody tr th:only-of-type {\n        vertical-align: middle;\n    }\n\n    .dataframe tbody tr th {\n        vertical-align: top;\n    }\n\n    .dataframe thead th {\n        text-align: right;\n    }\n</style>\n<table border=\"1\" class=\"dataframe\">\n  <thead>\n    <tr style=\"text-align: right;\">\n      <th></th>\n      <th>US</th>\n      <th>AUS</th>\n      <th>UK</th>\n    </tr>\n  </thead>\n  <tbody>\n    <tr>\n      <th>d</th>\n      <td>2.060353</td>\n      <td>0.425544</td>\n      <td>-0.757493</td>\n    </tr>\n  </tbody>\n</table>\n</div>",
      "text/plain": "         US       AUS        UK\nd  2.060353  0.425544 -0.757493"
     },
     "execution_count": 46,
     "metadata": {},
     "output_type": "execute_result"
    }
   ],
   "source": [
    "df[df['US'] > 0.05]"
   ]
  },
  {
   "cell_type": "code",
   "execution_count": 47,
   "metadata": {},
   "outputs": [
    {
     "data": {
      "text/plain": "a    False\nb    False\nc    False\nd     True\ne    False\nName: US, dtype: bool"
     },
     "execution_count": 47,
     "metadata": {},
     "output_type": "execute_result"
    }
   ],
   "source": [
    "df['US'] > 0.05"
   ]
  },
  {
   "cell_type": "code",
   "execution_count": 48,
   "metadata": {},
   "outputs": [
    {
     "data": {
      "text/plain": "d   -0.757493\nName: UK, dtype: float64"
     },
     "execution_count": 48,
     "metadata": {},
     "output_type": "execute_result"
    }
   ],
   "source": [
    "df[df['US'] > 0.05]['UK']"
   ]
  },
  {
   "cell_type": "code",
   "execution_count": 49,
   "metadata": {},
   "outputs": [
    {
     "data": {
      "text/html": "<div>\n<style scoped>\n    .dataframe tbody tr th:only-of-type {\n        vertical-align: middle;\n    }\n\n    .dataframe tbody tr th {\n        vertical-align: top;\n    }\n\n    .dataframe thead th {\n        text-align: right;\n    }\n</style>\n<table border=\"1\" class=\"dataframe\">\n  <thead>\n    <tr style=\"text-align: right;\">\n      <th></th>\n      <th>US</th>\n      <th>AUS</th>\n      <th>UK</th>\n    </tr>\n  </thead>\n  <tbody>\n    <tr>\n      <th>a</th>\n      <td>-0.640911</td>\n      <td>0.285930</td>\n      <td>-0.549811</td>\n    </tr>\n    <tr>\n      <th>b</th>\n      <td>-0.837960</td>\n      <td>-2.193583</td>\n      <td>-0.609038</td>\n    </tr>\n    <tr>\n      <th>c</th>\n      <td>-0.130206</td>\n      <td>0.573355</td>\n      <td>0.733247</td>\n    </tr>\n    <tr>\n      <th>d</th>\n      <td>2.060353</td>\n      <td>0.425544</td>\n      <td>-0.757493</td>\n    </tr>\n    <tr>\n      <th>e</th>\n      <td>-0.370550</td>\n      <td>1.674514</td>\n      <td>-1.619657</td>\n    </tr>\n  </tbody>\n</table>\n</div>",
      "text/plain": "         US       AUS        UK\na -0.640911  0.285930 -0.549811\nb -0.837960 -2.193583 -0.609038\nc -0.130206  0.573355  0.733247\nd  2.060353  0.425544 -0.757493\ne -0.370550  1.674514 -1.619657"
     },
     "execution_count": 49,
     "metadata": {},
     "output_type": "execute_result"
    }
   ],
   "source": [
    "df"
   ]
  },
  {
   "cell_type": "markdown",
   "metadata": {},
   "source": [
    "### We can reset the index"
   ]
  },
  {
   "cell_type": "code",
   "execution_count": 50,
   "metadata": {},
   "outputs": [
    {
     "data": {
      "text/html": "<div>\n<style scoped>\n    .dataframe tbody tr th:only-of-type {\n        vertical-align: middle;\n    }\n\n    .dataframe tbody tr th {\n        vertical-align: top;\n    }\n\n    .dataframe thead th {\n        text-align: right;\n    }\n</style>\n<table border=\"1\" class=\"dataframe\">\n  <thead>\n    <tr style=\"text-align: right;\">\n      <th></th>\n      <th>index</th>\n      <th>US</th>\n      <th>AUS</th>\n      <th>UK</th>\n    </tr>\n  </thead>\n  <tbody>\n    <tr>\n      <th>0</th>\n      <td>a</td>\n      <td>-0.640911</td>\n      <td>0.285930</td>\n      <td>-0.549811</td>\n    </tr>\n    <tr>\n      <th>1</th>\n      <td>b</td>\n      <td>-0.837960</td>\n      <td>-2.193583</td>\n      <td>-0.609038</td>\n    </tr>\n    <tr>\n      <th>2</th>\n      <td>c</td>\n      <td>-0.130206</td>\n      <td>0.573355</td>\n      <td>0.733247</td>\n    </tr>\n    <tr>\n      <th>3</th>\n      <td>d</td>\n      <td>2.060353</td>\n      <td>0.425544</td>\n      <td>-0.757493</td>\n    </tr>\n    <tr>\n      <th>4</th>\n      <td>e</td>\n      <td>-0.370550</td>\n      <td>1.674514</td>\n      <td>-1.619657</td>\n    </tr>\n  </tbody>\n</table>\n</div>",
      "text/plain": "  index        US       AUS        UK\n0     a -0.640911  0.285930 -0.549811\n1     b -0.837960 -2.193583 -0.609038\n2     c -0.130206  0.573355  0.733247\n3     d  2.060353  0.425544 -0.757493\n4     e -0.370550  1.674514 -1.619657"
     },
     "execution_count": 50,
     "metadata": {},
     "output_type": "execute_result"
    }
   ],
   "source": [
    "df.reset_index()"
   ]
  },
  {
   "cell_type": "code",
   "execution_count": 51,
   "metadata": {},
   "outputs": [
    {
     "data": {
      "text/html": "<div>\n<style scoped>\n    .dataframe tbody tr th:only-of-type {\n        vertical-align: middle;\n    }\n\n    .dataframe tbody tr th {\n        vertical-align: top;\n    }\n\n    .dataframe thead th {\n        text-align: right;\n    }\n</style>\n<table border=\"1\" class=\"dataframe\">\n  <thead>\n    <tr style=\"text-align: right;\">\n      <th></th>\n      <th>US</th>\n      <th>AUS</th>\n      <th>UK</th>\n    </tr>\n  </thead>\n  <tbody>\n    <tr>\n      <th>a</th>\n      <td>-0.640911</td>\n      <td>0.285930</td>\n      <td>-0.549811</td>\n    </tr>\n    <tr>\n      <th>b</th>\n      <td>-0.837960</td>\n      <td>-2.193583</td>\n      <td>-0.609038</td>\n    </tr>\n    <tr>\n      <th>c</th>\n      <td>-0.130206</td>\n      <td>0.573355</td>\n      <td>0.733247</td>\n    </tr>\n    <tr>\n      <th>d</th>\n      <td>2.060353</td>\n      <td>0.425544</td>\n      <td>-0.757493</td>\n    </tr>\n    <tr>\n      <th>e</th>\n      <td>-0.370550</td>\n      <td>1.674514</td>\n      <td>-1.619657</td>\n    </tr>\n  </tbody>\n</table>\n</div>",
      "text/plain": "         US       AUS        UK\na -0.640911  0.285930 -0.549811\nb -0.837960 -2.193583 -0.609038\nc -0.130206  0.573355  0.733247\nd  2.060353  0.425544 -0.757493\ne -0.370550  1.674514 -1.619657"
     },
     "execution_count": 51,
     "metadata": {},
     "output_type": "execute_result"
    }
   ],
   "source": [
    "df"
   ]
  },
  {
   "cell_type": "code",
   "execution_count": 53,
   "metadata": {},
   "outputs": [],
   "source": [
    "new_idx = '1 2 3 4 5'.split()"
   ]
  },
  {
   "cell_type": "code",
   "execution_count": 55,
   "metadata": {},
   "outputs": [
    {
     "data": {
      "text/html": "<div>\n<style scoped>\n    .dataframe tbody tr th:only-of-type {\n        vertical-align: middle;\n    }\n\n    .dataframe tbody tr th {\n        vertical-align: top;\n    }\n\n    .dataframe thead th {\n        text-align: right;\n    }\n</style>\n<table border=\"1\" class=\"dataframe\">\n  <thead>\n    <tr style=\"text-align: right;\">\n      <th></th>\n      <th>US</th>\n      <th>AUS</th>\n      <th>UK</th>\n    </tr>\n    <tr>\n      <th>idx</th>\n      <th></th>\n      <th></th>\n      <th></th>\n    </tr>\n  </thead>\n  <tbody>\n    <tr>\n      <th>1</th>\n      <td>-0.640911</td>\n      <td>0.285930</td>\n      <td>-0.549811</td>\n    </tr>\n    <tr>\n      <th>2</th>\n      <td>-0.837960</td>\n      <td>-2.193583</td>\n      <td>-0.609038</td>\n    </tr>\n    <tr>\n      <th>3</th>\n      <td>-0.130206</td>\n      <td>0.573355</td>\n      <td>0.733247</td>\n    </tr>\n    <tr>\n      <th>4</th>\n      <td>2.060353</td>\n      <td>0.425544</td>\n      <td>-0.757493</td>\n    </tr>\n    <tr>\n      <th>5</th>\n      <td>-0.370550</td>\n      <td>1.674514</td>\n      <td>-1.619657</td>\n    </tr>\n  </tbody>\n</table>\n</div>",
      "text/plain": "           US       AUS        UK\nidx                              \n1   -0.640911  0.285930 -0.549811\n2   -0.837960 -2.193583 -0.609038\n3   -0.130206  0.573355  0.733247\n4    2.060353  0.425544 -0.757493\n5   -0.370550  1.674514 -1.619657"
     },
     "execution_count": 55,
     "metadata": {},
     "output_type": "execute_result"
    }
   ],
   "source": [
    "df['idx'] = new_idx\n",
    "\n",
    "df.set_index('idx')"
   ]
  },
  {
   "cell_type": "code",
   "execution_count": 56,
   "metadata": {},
   "outputs": [
    {
     "data": {
      "text/html": "<div>\n<style scoped>\n    .dataframe tbody tr th:only-of-type {\n        vertical-align: middle;\n    }\n\n    .dataframe tbody tr th {\n        vertical-align: top;\n    }\n\n    .dataframe thead th {\n        text-align: right;\n    }\n</style>\n<table border=\"1\" class=\"dataframe\">\n  <thead>\n    <tr style=\"text-align: right;\">\n      <th></th>\n      <th>US</th>\n      <th>AUS</th>\n      <th>UK</th>\n      <th>idx</th>\n    </tr>\n  </thead>\n  <tbody>\n    <tr>\n      <th>a</th>\n      <td>-0.640911</td>\n      <td>0.285930</td>\n      <td>-0.549811</td>\n      <td>1</td>\n    </tr>\n    <tr>\n      <th>b</th>\n      <td>-0.837960</td>\n      <td>-2.193583</td>\n      <td>-0.609038</td>\n      <td>2</td>\n    </tr>\n    <tr>\n      <th>c</th>\n      <td>-0.130206</td>\n      <td>0.573355</td>\n      <td>0.733247</td>\n      <td>3</td>\n    </tr>\n    <tr>\n      <th>d</th>\n      <td>2.060353</td>\n      <td>0.425544</td>\n      <td>-0.757493</td>\n      <td>4</td>\n    </tr>\n    <tr>\n      <th>e</th>\n      <td>-0.370550</td>\n      <td>1.674514</td>\n      <td>-1.619657</td>\n      <td>5</td>\n    </tr>\n  </tbody>\n</table>\n</div>",
      "text/plain": "         US       AUS        UK idx\na -0.640911  0.285930 -0.549811   1\nb -0.837960 -2.193583 -0.609038   2\nc -0.130206  0.573355  0.733247   3\nd  2.060353  0.425544 -0.757493   4\ne -0.370550  1.674514 -1.619657   5"
     },
     "execution_count": 56,
     "metadata": {},
     "output_type": "execute_result"
    }
   ],
   "source": [
    "df"
   ]
  },
  {
   "cell_type": "markdown",
   "metadata": {},
   "source": [
    "## Handling Missing Data "
   ]
  },
  {
   "cell_type": "code",
   "execution_count": 58,
   "metadata": {},
   "outputs": [
    {
     "data": {
      "text/html": "<div>\n<style scoped>\n    .dataframe tbody tr th:only-of-type {\n        vertical-align: middle;\n    }\n\n    .dataframe tbody tr th {\n        vertical-align: top;\n    }\n\n    .dataframe thead th {\n        text-align: right;\n    }\n</style>\n<table border=\"1\" class=\"dataframe\">\n  <thead>\n    <tr style=\"text-align: right;\">\n      <th></th>\n      <th>a</th>\n      <th>b</th>\n      <th>c</th>\n    </tr>\n  </thead>\n  <tbody>\n    <tr>\n      <th>0</th>\n      <td>23</td>\n      <td>25.0</td>\n      <td>NaN</td>\n    </tr>\n    <tr>\n      <th>1</th>\n      <td>43</td>\n      <td>NaN</td>\n      <td>NaN</td>\n    </tr>\n    <tr>\n      <th>2</th>\n      <td>12</td>\n      <td>55.0</td>\n      <td>92.0</td>\n    </tr>\n  </tbody>\n</table>\n</div>",
      "text/plain": "    a     b     c\n0  23  25.0   NaN\n1  43   NaN   NaN\n2  12  55.0  92.0"
     },
     "execution_count": 58,
     "metadata": {},
     "output_type": "execute_result"
    }
   ],
   "source": [
    "df = pd.DataFrame({'a':[23,43,12],\n",
    "'b':[25,np.nan,55],\n",
    "'c':[np.nan,np.nan,92]}\n",
    ")\n",
    "\n",
    "df"
   ]
  },
  {
   "cell_type": "code",
   "execution_count": 59,
   "metadata": {},
   "outputs": [
    {
     "name": "stdout",
     "output_type": "stream",
     "text": [
      "<class 'pandas.core.frame.DataFrame'>\n",
      "RangeIndex: 3 entries, 0 to 2\n",
      "Data columns (total 3 columns):\n",
      " #   Column  Non-Null Count  Dtype  \n",
      "---  ------  --------------  -----  \n",
      " 0   a       3 non-null      int64  \n",
      " 1   b       2 non-null      float64\n",
      " 2   c       1 non-null      float64\n",
      "dtypes: float64(2), int64(1)\n",
      "memory usage: 200.0 bytes\n"
     ]
    }
   ],
   "source": [
    "df.info()"
   ]
  },
  {
   "cell_type": "code",
   "execution_count": 60,
   "metadata": {},
   "outputs": [
    {
     "data": {
      "text/html": "<div>\n<style scoped>\n    .dataframe tbody tr th:only-of-type {\n        vertical-align: middle;\n    }\n\n    .dataframe tbody tr th {\n        vertical-align: top;\n    }\n\n    .dataframe thead th {\n        text-align: right;\n    }\n</style>\n<table border=\"1\" class=\"dataframe\">\n  <thead>\n    <tr style=\"text-align: right;\">\n      <th></th>\n      <th>a</th>\n      <th>b</th>\n      <th>c</th>\n    </tr>\n  </thead>\n  <tbody>\n    <tr>\n      <th>count</th>\n      <td>3.000000</td>\n      <td>2.000000</td>\n      <td>1.0</td>\n    </tr>\n    <tr>\n      <th>mean</th>\n      <td>26.000000</td>\n      <td>40.000000</td>\n      <td>92.0</td>\n    </tr>\n    <tr>\n      <th>std</th>\n      <td>15.716234</td>\n      <td>21.213203</td>\n      <td>NaN</td>\n    </tr>\n    <tr>\n      <th>min</th>\n      <td>12.000000</td>\n      <td>25.000000</td>\n      <td>92.0</td>\n    </tr>\n    <tr>\n      <th>25%</th>\n      <td>17.500000</td>\n      <td>32.500000</td>\n      <td>92.0</td>\n    </tr>\n    <tr>\n      <th>50%</th>\n      <td>23.000000</td>\n      <td>40.000000</td>\n      <td>92.0</td>\n    </tr>\n    <tr>\n      <th>75%</th>\n      <td>33.000000</td>\n      <td>47.500000</td>\n      <td>92.0</td>\n    </tr>\n    <tr>\n      <th>max</th>\n      <td>43.000000</td>\n      <td>55.000000</td>\n      <td>92.0</td>\n    </tr>\n  </tbody>\n</table>\n</div>",
      "text/plain": "               a          b     c\ncount   3.000000   2.000000   1.0\nmean   26.000000  40.000000  92.0\nstd    15.716234  21.213203   NaN\nmin    12.000000  25.000000  92.0\n25%    17.500000  32.500000  92.0\n50%    23.000000  40.000000  92.0\n75%    33.000000  47.500000  92.0\nmax    43.000000  55.000000  92.0"
     },
     "execution_count": 60,
     "metadata": {},
     "output_type": "execute_result"
    }
   ],
   "source": [
    "df.describe()"
   ]
  },
  {
   "cell_type": "markdown",
   "metadata": {},
   "source": [
    "### Either you fill the missing value or drop"
   ]
  },
  {
   "cell_type": "code",
   "execution_count": 63,
   "metadata": {},
   "outputs": [
    {
     "data": {
      "text/html": "<div>\n<style scoped>\n    .dataframe tbody tr th:only-of-type {\n        vertical-align: middle;\n    }\n\n    .dataframe tbody tr th {\n        vertical-align: top;\n    }\n\n    .dataframe thead th {\n        text-align: right;\n    }\n</style>\n<table border=\"1\" class=\"dataframe\">\n  <thead>\n    <tr style=\"text-align: right;\">\n      <th></th>\n      <th>a</th>\n    </tr>\n  </thead>\n  <tbody>\n    <tr>\n      <th>0</th>\n      <td>23</td>\n    </tr>\n    <tr>\n      <th>1</th>\n      <td>43</td>\n    </tr>\n    <tr>\n      <th>2</th>\n      <td>12</td>\n    </tr>\n  </tbody>\n</table>\n</div>",
      "text/plain": "    a\n0  23\n1  43\n2  12"
     },
     "execution_count": 63,
     "metadata": {},
     "output_type": "execute_result"
    }
   ],
   "source": [
    "df.dropna(axis=1)"
   ]
  },
  {
   "cell_type": "code",
   "execution_count": 64,
   "metadata": {},
   "outputs": [
    {
     "data": {
      "text/html": "<div>\n<style scoped>\n    .dataframe tbody tr th:only-of-type {\n        vertical-align: middle;\n    }\n\n    .dataframe tbody tr th {\n        vertical-align: top;\n    }\n\n    .dataframe thead th {\n        text-align: right;\n    }\n</style>\n<table border=\"1\" class=\"dataframe\">\n  <thead>\n    <tr style=\"text-align: right;\">\n      <th></th>\n      <th>a</th>\n      <th>b</th>\n      <th>c</th>\n    </tr>\n  </thead>\n  <tbody>\n    <tr>\n      <th>0</th>\n      <td>23</td>\n      <td>25.0</td>\n      <td>NaN</td>\n    </tr>\n    <tr>\n      <th>1</th>\n      <td>43</td>\n      <td>NaN</td>\n      <td>NaN</td>\n    </tr>\n    <tr>\n      <th>2</th>\n      <td>12</td>\n      <td>55.0</td>\n      <td>92.0</td>\n    </tr>\n  </tbody>\n</table>\n</div>",
      "text/plain": "    a     b     c\n0  23  25.0   NaN\n1  43   NaN   NaN\n2  12  55.0  92.0"
     },
     "execution_count": 64,
     "metadata": {},
     "output_type": "execute_result"
    }
   ],
   "source": [
    "df"
   ]
  },
  {
   "cell_type": "code",
   "execution_count": 65,
   "metadata": {},
   "outputs": [
    {
     "data": {
      "text/html": "<div>\n<style scoped>\n    .dataframe tbody tr th:only-of-type {\n        vertical-align: middle;\n    }\n\n    .dataframe tbody tr th {\n        vertical-align: top;\n    }\n\n    .dataframe thead th {\n        text-align: right;\n    }\n</style>\n<table border=\"1\" class=\"dataframe\">\n  <thead>\n    <tr style=\"text-align: right;\">\n      <th></th>\n      <th>a</th>\n      <th>b</th>\n      <th>c</th>\n    </tr>\n  </thead>\n  <tbody>\n    <tr>\n      <th>0</th>\n      <td>23</td>\n      <td>25.0</td>\n      <td>Value to fill</td>\n    </tr>\n    <tr>\n      <th>1</th>\n      <td>43</td>\n      <td>Value to fill</td>\n      <td>Value to fill</td>\n    </tr>\n    <tr>\n      <th>2</th>\n      <td>12</td>\n      <td>55.0</td>\n      <td>92.0</td>\n    </tr>\n  </tbody>\n</table>\n</div>",
      "text/plain": "    a              b              c\n0  23           25.0  Value to fill\n1  43  Value to fill  Value to fill\n2  12           55.0           92.0"
     },
     "execution_count": 65,
     "metadata": {},
     "output_type": "execute_result"
    }
   ],
   "source": [
    "df.fillna(value='Value to fill')"
   ]
  },
  {
   "cell_type": "code",
   "execution_count": 66,
   "metadata": {},
   "outputs": [
    {
     "data": {
      "text/html": "<div>\n<style scoped>\n    .dataframe tbody tr th:only-of-type {\n        vertical-align: middle;\n    }\n\n    .dataframe tbody tr th {\n        vertical-align: top;\n    }\n\n    .dataframe thead th {\n        text-align: right;\n    }\n</style>\n<table border=\"1\" class=\"dataframe\">\n  <thead>\n    <tr style=\"text-align: right;\">\n      <th></th>\n      <th>a</th>\n      <th>b</th>\n      <th>c</th>\n    </tr>\n  </thead>\n  <tbody>\n    <tr>\n      <th>0</th>\n      <td>23</td>\n      <td>25.0</td>\n      <td>NaN</td>\n    </tr>\n    <tr>\n      <th>1</th>\n      <td>43</td>\n      <td>NaN</td>\n      <td>NaN</td>\n    </tr>\n    <tr>\n      <th>2</th>\n      <td>12</td>\n      <td>55.0</td>\n      <td>92.0</td>\n    </tr>\n  </tbody>\n</table>\n</div>",
      "text/plain": "    a     b     c\n0  23  25.0   NaN\n1  43   NaN   NaN\n2  12  55.0  92.0"
     },
     "execution_count": 66,
     "metadata": {},
     "output_type": "execute_result"
    }
   ],
   "source": [
    "df"
   ]
  },
  {
   "cell_type": "code",
   "execution_count": 67,
   "metadata": {},
   "outputs": [],
   "source": [
    "df['b'] = df.fillna(value=df['b'].mean())"
   ]
  },
  {
   "cell_type": "code",
   "execution_count": 68,
   "metadata": {},
   "outputs": [
    {
     "data": {
      "text/html": "<div>\n<style scoped>\n    .dataframe tbody tr th:only-of-type {\n        vertical-align: middle;\n    }\n\n    .dataframe tbody tr th {\n        vertical-align: top;\n    }\n\n    .dataframe thead th {\n        text-align: right;\n    }\n</style>\n<table border=\"1\" class=\"dataframe\">\n  <thead>\n    <tr style=\"text-align: right;\">\n      <th></th>\n      <th>a</th>\n      <th>b</th>\n      <th>c</th>\n    </tr>\n  </thead>\n  <tbody>\n    <tr>\n      <th>0</th>\n      <td>23</td>\n      <td>23.0</td>\n      <td>NaN</td>\n    </tr>\n    <tr>\n      <th>1</th>\n      <td>43</td>\n      <td>43.0</td>\n      <td>NaN</td>\n    </tr>\n    <tr>\n      <th>2</th>\n      <td>12</td>\n      <td>12.0</td>\n      <td>92.0</td>\n    </tr>\n  </tbody>\n</table>\n</div>",
      "text/plain": "    a     b     c\n0  23  23.0   NaN\n1  43  43.0   NaN\n2  12  12.0  92.0"
     },
     "execution_count": 68,
     "metadata": {},
     "output_type": "execute_result"
    }
   ],
   "source": [
    "df"
   ]
  },
  {
   "cell_type": "code",
   "execution_count": 69,
   "metadata": {},
   "outputs": [],
   "source": [
    "df['c'] = df.fillna(value = df['c'].mean())"
   ]
  },
  {
   "cell_type": "code",
   "execution_count": 70,
   "metadata": {},
   "outputs": [],
   "source": [
    "cmp = 'GOOG GOOG GOOG AAPL AAPL AAPL MSFT MSFT'.split()\n",
    "sp = 'KIRAN VANDANA NAGA VIPUL OSCAR PUSPA SAIMA YESH'.split()\n",
    "sales = [1000,2100,92121,1281,312818,1292,1821,281921]"
   ]
  },
  {
   "cell_type": "code",
   "execution_count": 71,
   "metadata": {},
   "outputs": [],
   "source": [
    "df = pd.DataFrame(sales)\n",
    "df['Company'] = cmp\n",
    "df['Salesperson'] = sp"
   ]
  },
  {
   "cell_type": "code",
   "execution_count": 72,
   "metadata": {},
   "outputs": [
    {
     "data": {
      "text/html": "<div>\n<style scoped>\n    .dataframe tbody tr th:only-of-type {\n        vertical-align: middle;\n    }\n\n    .dataframe tbody tr th {\n        vertical-align: top;\n    }\n\n    .dataframe thead th {\n        text-align: right;\n    }\n</style>\n<table border=\"1\" class=\"dataframe\">\n  <thead>\n    <tr style=\"text-align: right;\">\n      <th></th>\n      <th>0</th>\n      <th>Company</th>\n      <th>Salesperson</th>\n    </tr>\n  </thead>\n  <tbody>\n    <tr>\n      <th>0</th>\n      <td>1000</td>\n      <td>GOOG</td>\n      <td>KIRAN</td>\n    </tr>\n    <tr>\n      <th>1</th>\n      <td>2100</td>\n      <td>GOOG</td>\n      <td>VANDANA</td>\n    </tr>\n    <tr>\n      <th>2</th>\n      <td>92121</td>\n      <td>GOOG</td>\n      <td>NAGA</td>\n    </tr>\n    <tr>\n      <th>3</th>\n      <td>1281</td>\n      <td>AAPL</td>\n      <td>VIPUL</td>\n    </tr>\n    <tr>\n      <th>4</th>\n      <td>312818</td>\n      <td>AAPL</td>\n      <td>OSCAR</td>\n    </tr>\n    <tr>\n      <th>5</th>\n      <td>1292</td>\n      <td>AAPL</td>\n      <td>PUSPA</td>\n    </tr>\n    <tr>\n      <th>6</th>\n      <td>1821</td>\n      <td>MSFT</td>\n      <td>SAIMA</td>\n    </tr>\n    <tr>\n      <th>7</th>\n      <td>281921</td>\n      <td>MSFT</td>\n      <td>YESH</td>\n    </tr>\n  </tbody>\n</table>\n</div>",
      "text/plain": "        0 Company Salesperson\n0    1000    GOOG       KIRAN\n1    2100    GOOG     VANDANA\n2   92121    GOOG        NAGA\n3    1281    AAPL       VIPUL\n4  312818    AAPL       OSCAR\n5    1292    AAPL       PUSPA\n6    1821    MSFT       SAIMA\n7  281921    MSFT        YESH"
     },
     "execution_count": 72,
     "metadata": {},
     "output_type": "execute_result"
    }
   ],
   "source": [
    "df"
   ]
  },
  {
   "cell_type": "code",
   "execution_count": 73,
   "metadata": {},
   "outputs": [
    {
     "data": {
      "text/plain": "<pandas.core.groupby.generic.DataFrameGroupBy object at 0x11754fd90>"
     },
     "execution_count": 73,
     "metadata": {},
     "output_type": "execute_result"
    }
   ],
   "source": [
    "df.groupby('Company')"
   ]
  },
  {
   "cell_type": "code",
   "execution_count": 74,
   "metadata": {},
   "outputs": [
    {
     "data": {
      "text/html": "<div>\n<style scoped>\n    .dataframe tbody tr th:only-of-type {\n        vertical-align: middle;\n    }\n\n    .dataframe tbody tr th {\n        vertical-align: top;\n    }\n\n    .dataframe thead th {\n        text-align: right;\n    }\n</style>\n<table border=\"1\" class=\"dataframe\">\n  <thead>\n    <tr style=\"text-align: right;\">\n      <th></th>\n      <th>0</th>\n    </tr>\n    <tr>\n      <th>Company</th>\n      <th></th>\n    </tr>\n  </thead>\n  <tbody>\n    <tr>\n      <th>AAPL</th>\n      <td>315391</td>\n    </tr>\n    <tr>\n      <th>GOOG</th>\n      <td>95221</td>\n    </tr>\n    <tr>\n      <th>MSFT</th>\n      <td>283742</td>\n    </tr>\n  </tbody>\n</table>\n</div>",
      "text/plain": "              0\nCompany        \nAAPL     315391\nGOOG      95221\nMSFT     283742"
     },
     "execution_count": 74,
     "metadata": {},
     "output_type": "execute_result"
    }
   ],
   "source": [
    "df.groupby('Company').sum()"
   ]
  },
  {
   "cell_type": "code",
   "execution_count": 75,
   "metadata": {},
   "outputs": [
    {
     "data": {
      "text/html": "<div>\n<style scoped>\n    .dataframe tbody tr th:only-of-type {\n        vertical-align: middle;\n    }\n\n    .dataframe tbody tr th {\n        vertical-align: top;\n    }\n\n    .dataframe thead tr th {\n        text-align: left;\n    }\n\n    .dataframe thead tr:last-of-type th {\n        text-align: right;\n    }\n</style>\n<table border=\"1\" class=\"dataframe\">\n  <thead>\n    <tr>\n      <th></th>\n      <th colspan=\"8\" halign=\"left\">0</th>\n    </tr>\n    <tr>\n      <th></th>\n      <th>count</th>\n      <th>mean</th>\n      <th>std</th>\n      <th>min</th>\n      <th>25%</th>\n      <th>50%</th>\n      <th>75%</th>\n      <th>max</th>\n    </tr>\n    <tr>\n      <th>Company</th>\n      <th></th>\n      <th></th>\n      <th></th>\n      <th></th>\n      <th></th>\n      <th></th>\n      <th></th>\n      <th></th>\n    </tr>\n  </thead>\n  <tbody>\n    <tr>\n      <th>AAPL</th>\n      <td>3.0</td>\n      <td>105130.333333</td>\n      <td>179862.795470</td>\n      <td>1281.0</td>\n      <td>1286.5</td>\n      <td>1292.0</td>\n      <td>157055.0</td>\n      <td>312818.0</td>\n    </tr>\n    <tr>\n      <th>GOOG</th>\n      <td>3.0</td>\n      <td>31740.333333</td>\n      <td>52294.083607</td>\n      <td>1000.0</td>\n      <td>1550.0</td>\n      <td>2100.0</td>\n      <td>47110.5</td>\n      <td>92121.0</td>\n    </tr>\n    <tr>\n      <th>MSFT</th>\n      <td>2.0</td>\n      <td>141871.000000</td>\n      <td>198060.609410</td>\n      <td>1821.0</td>\n      <td>71846.0</td>\n      <td>141871.0</td>\n      <td>211896.0</td>\n      <td>281921.0</td>\n    </tr>\n  </tbody>\n</table>\n</div>",
      "text/plain": "            0                                                           \\\n        count           mean            std     min      25%       50%   \nCompany                                                                  \nAAPL      3.0  105130.333333  179862.795470  1281.0   1286.5    1292.0   \nGOOG      3.0   31740.333333   52294.083607  1000.0   1550.0    2100.0   \nMSFT      2.0  141871.000000  198060.609410  1821.0  71846.0  141871.0   \n\n                             \n              75%       max  \nCompany                      \nAAPL     157055.0  312818.0  \nGOOG      47110.5   92121.0  \nMSFT     211896.0  281921.0  "
     },
     "execution_count": 75,
     "metadata": {},
     "output_type": "execute_result"
    }
   ],
   "source": [
    "df.groupby('Company').describe()"
   ]
  },
  {
   "cell_type": "code",
   "execution_count": 76,
   "metadata": {},
   "outputs": [
    {
     "data": {
      "text/html": "<div>\n<style scoped>\n    .dataframe tbody tr th:only-of-type {\n        vertical-align: middle;\n    }\n\n    .dataframe tbody tr th {\n        vertical-align: top;\n    }\n\n    .dataframe thead th {\n        text-align: right;\n    }\n</style>\n<table border=\"1\" class=\"dataframe\">\n  <thead>\n    <tr style=\"text-align: right;\">\n      <th></th>\n      <th>Company</th>\n      <th>AAPL</th>\n      <th>GOOG</th>\n      <th>MSFT</th>\n    </tr>\n  </thead>\n  <tbody>\n    <tr>\n      <th rowspan=\"8\" valign=\"top\">0</th>\n      <th>count</th>\n      <td>3.000000</td>\n      <td>3.000000</td>\n      <td>2.00000</td>\n    </tr>\n    <tr>\n      <th>mean</th>\n      <td>105130.333333</td>\n      <td>31740.333333</td>\n      <td>141871.00000</td>\n    </tr>\n    <tr>\n      <th>std</th>\n      <td>179862.795470</td>\n      <td>52294.083607</td>\n      <td>198060.60941</td>\n    </tr>\n    <tr>\n      <th>min</th>\n      <td>1281.000000</td>\n      <td>1000.000000</td>\n      <td>1821.00000</td>\n    </tr>\n    <tr>\n      <th>25%</th>\n      <td>1286.500000</td>\n      <td>1550.000000</td>\n      <td>71846.00000</td>\n    </tr>\n    <tr>\n      <th>50%</th>\n      <td>1292.000000</td>\n      <td>2100.000000</td>\n      <td>141871.00000</td>\n    </tr>\n    <tr>\n      <th>75%</th>\n      <td>157055.000000</td>\n      <td>47110.500000</td>\n      <td>211896.00000</td>\n    </tr>\n    <tr>\n      <th>max</th>\n      <td>312818.000000</td>\n      <td>92121.000000</td>\n      <td>281921.00000</td>\n    </tr>\n  </tbody>\n</table>\n</div>",
      "text/plain": "Company           AAPL          GOOG          MSFT\n0 count       3.000000      3.000000       2.00000\n  mean   105130.333333  31740.333333  141871.00000\n  std    179862.795470  52294.083607  198060.60941\n  min      1281.000000   1000.000000    1821.00000\n  25%      1286.500000   1550.000000   71846.00000\n  50%      1292.000000   2100.000000  141871.00000\n  75%    157055.000000  47110.500000  211896.00000\n  max    312818.000000  92121.000000  281921.00000"
     },
     "execution_count": 76,
     "metadata": {},
     "output_type": "execute_result"
    }
   ],
   "source": [
    "df.groupby('Company').describe().transpose()"
   ]
  },
  {
   "cell_type": "code",
   "execution_count": 85,
   "metadata": {},
   "outputs": [
    {
     "data": {
      "text/html": "<div>\n<style scoped>\n    .dataframe tbody tr th:only-of-type {\n        vertical-align: middle;\n    }\n\n    .dataframe tbody tr th {\n        vertical-align: top;\n    }\n\n    .dataframe thead th {\n        text-align: right;\n    }\n</style>\n<table border=\"1\" class=\"dataframe\">\n  <thead>\n    <tr style=\"text-align: right;\">\n      <th></th>\n      <th>0</th>\n      <th>Company</th>\n      <th>Salesperson</th>\n    </tr>\n  </thead>\n  <tbody>\n    <tr>\n      <th>0</th>\n      <td>1000</td>\n      <td>GOOG</td>\n      <td>KIRAN</td>\n    </tr>\n    <tr>\n      <th>1</th>\n      <td>2100</td>\n      <td>GOOG</td>\n      <td>VANDANA</td>\n    </tr>\n    <tr>\n      <th>2</th>\n      <td>92121</td>\n      <td>GOOG</td>\n      <td>NAGA</td>\n    </tr>\n    <tr>\n      <th>3</th>\n      <td>1281</td>\n      <td>AAPL</td>\n      <td>VIPUL</td>\n    </tr>\n    <tr>\n      <th>4</th>\n      <td>312818</td>\n      <td>AAPL</td>\n      <td>OSCAR</td>\n    </tr>\n    <tr>\n      <th>5</th>\n      <td>1292</td>\n      <td>AAPL</td>\n      <td>PUSPA</td>\n    </tr>\n    <tr>\n      <th>6</th>\n      <td>1821</td>\n      <td>MSFT</td>\n      <td>SAIMA</td>\n    </tr>\n    <tr>\n      <th>7</th>\n      <td>281921</td>\n      <td>MSFT</td>\n      <td>YESH</td>\n    </tr>\n  </tbody>\n</table>\n</div>",
      "text/plain": "        0 Company Salesperson\n0    1000    GOOG       KIRAN\n1    2100    GOOG     VANDANA\n2   92121    GOOG        NAGA\n3    1281    AAPL       VIPUL\n4  312818    AAPL       OSCAR\n5    1292    AAPL       PUSPA\n6    1821    MSFT       SAIMA\n7  281921    MSFT        YESH"
     },
     "execution_count": 85,
     "metadata": {},
     "output_type": "execute_result"
    }
   ],
   "source": [
    "df"
   ]
  },
  {
   "cell_type": "code",
   "execution_count": 86,
   "metadata": {},
   "outputs": [
    {
     "data": {
      "text/html": "<div>\n<style scoped>\n    .dataframe tbody tr th:only-of-type {\n        vertical-align: middle;\n    }\n\n    .dataframe tbody tr th {\n        vertical-align: top;\n    }\n\n    .dataframe thead th {\n        text-align: right;\n    }\n</style>\n<table border=\"1\" class=\"dataframe\">\n  <thead>\n    <tr style=\"text-align: right;\">\n      <th></th>\n      <th>0</th>\n      <th>Company</th>\n      <th>Salesperson</th>\n    </tr>\n  </thead>\n  <tbody>\n    <tr>\n      <th>0</th>\n      <td>4</td>\n      <td>4</td>\n      <td>5</td>\n    </tr>\n    <tr>\n      <th>1</th>\n      <td>4</td>\n      <td>4</td>\n      <td>7</td>\n    </tr>\n    <tr>\n      <th>2</th>\n      <td>5</td>\n      <td>4</td>\n      <td>4</td>\n    </tr>\n    <tr>\n      <th>3</th>\n      <td>4</td>\n      <td>4</td>\n      <td>5</td>\n    </tr>\n    <tr>\n      <th>4</th>\n      <td>6</td>\n      <td>4</td>\n      <td>5</td>\n    </tr>\n    <tr>\n      <th>5</th>\n      <td>4</td>\n      <td>4</td>\n      <td>5</td>\n    </tr>\n    <tr>\n      <th>6</th>\n      <td>4</td>\n      <td>4</td>\n      <td>5</td>\n    </tr>\n    <tr>\n      <th>7</th>\n      <td>6</td>\n      <td>4</td>\n      <td>4</td>\n    </tr>\n  </tbody>\n</table>\n</div>",
      "text/plain": "   0  Company  Salesperson\n0  4        4            5\n1  4        4            7\n2  5        4            4\n3  4        4            5\n4  6        4            5\n5  4        4            5\n6  4        4            5\n7  6        4            4"
     },
     "execution_count": 86,
     "metadata": {},
     "output_type": "execute_result"
    }
   ],
   "source": [
    "df.applymap(lambda x:len(str(x)))"
   ]
  },
  {
   "cell_type": "code",
   "execution_count": 90,
   "metadata": {},
   "outputs": [
    {
     "data": {
      "text/plain": "Index([0, 'Company', 'Salesperson'], dtype='object')"
     },
     "execution_count": 90,
     "metadata": {},
     "output_type": "execute_result"
    }
   ],
   "source": [
    "df.columns"
   ]
  },
  {
   "cell_type": "code",
   "execution_count": 91,
   "metadata": {},
   "outputs": [
    {
     "data": {
      "text/plain": "0               int64\nCompany        object\nSalesperson    object\ndtype: object"
     },
     "execution_count": 91,
     "metadata": {},
     "output_type": "execute_result"
    }
   ],
   "source": [
    "df.dtypes"
   ]
  },
  {
   "cell_type": "code",
   "execution_count": 96,
   "metadata": {},
   "outputs": [
    {
     "data": {
      "text/plain": "0     True\n1     True\n2     True\n3    False\n4    False\n5    False\n6     True\n7     True\nName: Company, dtype: bool"
     },
     "execution_count": 96,
     "metadata": {},
     "output_type": "execute_result"
    }
   ],
   "source": [
    "df.isin({'Company':['GOOG','MSFT']})['Company']"
   ]
  },
  {
   "cell_type": "markdown",
   "metadata": {},
   "source": [
    "## Pivot Tables"
   ]
  },
  {
   "cell_type": "code",
   "execution_count": 99,
   "metadata": {},
   "outputs": [
    {
     "data": {
      "text/html": "<div>\n<style scoped>\n    .dataframe tbody tr th:only-of-type {\n        vertical-align: middle;\n    }\n\n    .dataframe tbody tr th {\n        vertical-align: top;\n    }\n\n    .dataframe thead th {\n        text-align: right;\n    }\n</style>\n<table border=\"1\" class=\"dataframe\">\n  <thead>\n    <tr style=\"text-align: right;\">\n      <th></th>\n      <th>country</th>\n      <th>year</th>\n      <th>pop</th>\n      <th>continent</th>\n      <th>lifeExp</th>\n      <th>gdpPercap</th>\n    </tr>\n  </thead>\n  <tbody>\n    <tr>\n      <th>0</th>\n      <td>Afghanistan</td>\n      <td>1952</td>\n      <td>8425333.0</td>\n      <td>Asia</td>\n      <td>28.801</td>\n      <td>779.445314</td>\n    </tr>\n    <tr>\n      <th>1</th>\n      <td>Afghanistan</td>\n      <td>1957</td>\n      <td>9240934.0</td>\n      <td>Asia</td>\n      <td>30.332</td>\n      <td>820.853030</td>\n    </tr>\n    <tr>\n      <th>2</th>\n      <td>Afghanistan</td>\n      <td>1962</td>\n      <td>10267083.0</td>\n      <td>Asia</td>\n      <td>31.997</td>\n      <td>853.100710</td>\n    </tr>\n    <tr>\n      <th>3</th>\n      <td>Afghanistan</td>\n      <td>1967</td>\n      <td>11537966.0</td>\n      <td>Asia</td>\n      <td>34.020</td>\n      <td>836.197138</td>\n    </tr>\n    <tr>\n      <th>4</th>\n      <td>Afghanistan</td>\n      <td>1972</td>\n      <td>13079460.0</td>\n      <td>Asia</td>\n      <td>36.088</td>\n      <td>739.981106</td>\n    </tr>\n  </tbody>\n</table>\n</div>",
      "text/plain": "       country  year         pop continent  lifeExp   gdpPercap\n0  Afghanistan  1952   8425333.0      Asia   28.801  779.445314\n1  Afghanistan  1957   9240934.0      Asia   30.332  820.853030\n2  Afghanistan  1962  10267083.0      Asia   31.997  853.100710\n3  Afghanistan  1967  11537966.0      Asia   34.020  836.197138\n4  Afghanistan  1972  13079460.0      Asia   36.088  739.981106"
     },
     "execution_count": 99,
     "metadata": {},
     "output_type": "execute_result"
    }
   ],
   "source": [
    "url = \"https://raw.githubusercontent.com/resbaz/r-novice-gapminder-files/master/data/gapminder-FiveYearData.csv\"\n",
    "\n",
    "df = pd.read_csv(url)\n",
    "\n",
    "df.head()"
   ]
  },
  {
   "cell_type": "code",
   "execution_count": 100,
   "metadata": {},
   "outputs": [
    {
     "data": {
      "text/plain": "(1704, 6)"
     },
     "execution_count": 100,
     "metadata": {},
     "output_type": "execute_result"
    }
   ],
   "source": [
    "df.shape"
   ]
  },
  {
   "cell_type": "code",
   "execution_count": 102,
   "metadata": {},
   "outputs": [
    {
     "data": {
      "text/html": "<div>\n<style scoped>\n    .dataframe tbody tr th:only-of-type {\n        vertical-align: middle;\n    }\n\n    .dataframe tbody tr th {\n        vertical-align: top;\n    }\n\n    .dataframe thead th {\n        text-align: right;\n    }\n</style>\n<table border=\"1\" class=\"dataframe\">\n  <thead>\n    <tr style=\"text-align: right;\">\n      <th></th>\n      <th>year</th>\n      <th>pop</th>\n      <th>lifeExp</th>\n      <th>gdpPercap</th>\n    </tr>\n  </thead>\n  <tbody>\n    <tr>\n      <th>count</th>\n      <td>1704.00000</td>\n      <td>1.704000e+03</td>\n      <td>1704.000000</td>\n      <td>1704.000000</td>\n    </tr>\n    <tr>\n      <th>mean</th>\n      <td>1979.50000</td>\n      <td>2.960121e+07</td>\n      <td>59.474439</td>\n      <td>7215.327081</td>\n    </tr>\n    <tr>\n      <th>std</th>\n      <td>17.26533</td>\n      <td>1.061579e+08</td>\n      <td>12.917107</td>\n      <td>9857.454543</td>\n    </tr>\n    <tr>\n      <th>min</th>\n      <td>1952.00000</td>\n      <td>6.001100e+04</td>\n      <td>23.599000</td>\n      <td>241.165876</td>\n    </tr>\n    <tr>\n      <th>25%</th>\n      <td>1965.75000</td>\n      <td>2.793664e+06</td>\n      <td>48.198000</td>\n      <td>1202.060309</td>\n    </tr>\n    <tr>\n      <th>50%</th>\n      <td>1979.50000</td>\n      <td>7.023596e+06</td>\n      <td>60.712500</td>\n      <td>3531.846988</td>\n    </tr>\n    <tr>\n      <th>75%</th>\n      <td>1993.25000</td>\n      <td>1.958522e+07</td>\n      <td>70.845500</td>\n      <td>9325.462346</td>\n    </tr>\n    <tr>\n      <th>max</th>\n      <td>2007.00000</td>\n      <td>1.318683e+09</td>\n      <td>82.603000</td>\n      <td>113523.132900</td>\n    </tr>\n  </tbody>\n</table>\n</div>",
      "text/plain": "             year           pop      lifeExp      gdpPercap\ncount  1704.00000  1.704000e+03  1704.000000    1704.000000\nmean   1979.50000  2.960121e+07    59.474439    7215.327081\nstd      17.26533  1.061579e+08    12.917107    9857.454543\nmin    1952.00000  6.001100e+04    23.599000     241.165876\n25%    1965.75000  2.793664e+06    48.198000    1202.060309\n50%    1979.50000  7.023596e+06    60.712500    3531.846988\n75%    1993.25000  1.958522e+07    70.845500    9325.462346\nmax    2007.00000  1.318683e+09    82.603000  113523.132900"
     },
     "execution_count": 102,
     "metadata": {},
     "output_type": "execute_result"
    }
   ],
   "source": [
    "df.describe()"
   ]
  },
  {
   "cell_type": "code",
   "execution_count": 103,
   "metadata": {},
   "outputs": [
    {
     "name": "stdout",
     "output_type": "stream",
     "text": [
      "<class 'pandas.core.frame.DataFrame'>\n",
      "RangeIndex: 1704 entries, 0 to 1703\n",
      "Data columns (total 6 columns):\n",
      " #   Column     Non-Null Count  Dtype  \n",
      "---  ------     --------------  -----  \n",
      " 0   country    1704 non-null   object \n",
      " 1   year       1704 non-null   int64  \n",
      " 2   pop        1704 non-null   float64\n",
      " 3   continent  1704 non-null   object \n",
      " 4   lifeExp    1704 non-null   float64\n",
      " 5   gdpPercap  1704 non-null   float64\n",
      "dtypes: float64(3), int64(1), object(2)\n",
      "memory usage: 80.0+ KB\n"
     ]
    }
   ],
   "source": [
    "df.info()"
   ]
  },
  {
   "cell_type": "code",
   "execution_count": 104,
   "metadata": {},
   "outputs": [],
   "source": [
    "df1 = df[['continent','lifeExp']]"
   ]
  },
  {
   "cell_type": "code",
   "execution_count": 110,
   "metadata": {},
   "outputs": [
    {
     "data": {
      "text/html": "<div>\n<style scoped>\n    .dataframe tbody tr th:only-of-type {\n        vertical-align: middle;\n    }\n\n    .dataframe tbody tr th {\n        vertical-align: top;\n    }\n\n    .dataframe thead th {\n        text-align: right;\n    }\n</style>\n<table border=\"1\" class=\"dataframe\">\n  <thead>\n    <tr style=\"text-align: right;\">\n      <th>continent</th>\n      <th>Africa</th>\n      <th>Americas</th>\n      <th>Asia</th>\n      <th>Europe</th>\n      <th>Oceania</th>\n    </tr>\n  </thead>\n  <tbody>\n    <tr>\n      <th>lifeExp</th>\n      <td>48.86533</td>\n      <td>64.658737</td>\n      <td>60.064903</td>\n      <td>71.903686</td>\n      <td>74.326208</td>\n    </tr>\n  </tbody>\n</table>\n</div>",
      "text/plain": "continent    Africa   Americas       Asia     Europe    Oceania\nlifeExp    48.86533  64.658737  60.064903  71.903686  74.326208"
     },
     "execution_count": 110,
     "metadata": {},
     "output_type": "execute_result"
    }
   ],
   "source": [
    "pd.pivot_table(df1,values=\"lifeExp\",columns=\"continent\")"
   ]
  },
  {
   "cell_type": "code",
   "execution_count": 112,
   "metadata": {},
   "outputs": [
    {
     "data": {
      "text/plain": "Africa      624\nAsia        396\nEurope      360\nAmericas    300\nOceania      24\nName: continent, dtype: int64"
     },
     "execution_count": 112,
     "metadata": {},
     "output_type": "execute_result"
    }
   ],
   "source": [
    "df['continent'].value_counts()"
   ]
  },
  {
   "cell_type": "code",
   "execution_count": null,
   "metadata": {},
   "outputs": [],
   "source": []
  }
 ],
 "metadata": {
  "kernelspec": {
   "display_name": "Python 3.9.1 64-bit ('base': conda)",
   "name": "python391jvsc74a57bd06cfcaf2d46ef0fe16e7bef9f4fa7d8cf27224794caf1a18edb32c6467eefe89d"
  },
  "language_info": {
   "codemirror_mode": {
    "name": "ipython",
    "version": 3
   },
   "file_extension": ".py",
   "mimetype": "text/x-python",
   "name": "python",
   "nbconvert_exporter": "python",
   "pygments_lexer": "ipython3",
   "version": "3.9.1"
  },
  "metadata": {
   "interpreter": {
    "hash": "7812ea015bdcee6f23a998adcdd2ef97c151c0c241b7b7070987d9313e41299d"
   }
  },
  "orig_nbformat": 2
 },
 "nbformat": 4,
 "nbformat_minor": 2
}